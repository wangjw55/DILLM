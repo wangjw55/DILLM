{
 "cells": [
  {
   "cell_type": "code",
   "execution_count": 2,
   "metadata": {},
   "outputs": [
    {
     "name": "stderr",
     "output_type": "stream",
     "text": [
      "100%|██████████| 90/90 [01:27<00:00,  1.03it/s]\n"
     ]
    }
   ],
   "source": [
    "import json\n",
    "import os\n",
    "os.environ[\"CUDA_VISIBLE_DEVICES\"] = \"0\"\n",
    "import clip\n",
    "import torch\n",
    "import csv\n",
    "import base64\n",
    "from tqdm import tqdm\n",
    "\n",
    "all_dict = {}\n",
    "dir_list = os.listdir('objects_list/')\n",
    "for path in dir_list:\n",
    "    with open('objects_list/'+path, 'r') as f:\n",
    "        data = json.load(f)\n",
    "        all_dict[path[0:11]] = data\n",
    "\n",
    "device = \"cuda\" if torch.cuda.is_available() else \"cpu\"\n",
    "model, preprocess = clip.load(\"RN50x4\", device=device, download_root = \"/home/wsco/DILLM/img_features/\")\n",
    "\n",
    "TSV_FIELDNAMES = ['scanId', 'viewpointId', 'features']\n",
    "OUTFILE = '/home/wsco/DILLM/img_features/CLIP-obj-RN50-1e-6.tsv'\n",
    "with open(OUTFILE, 'wt') as tsvfile:\n",
    "    writer = csv.DictWriter(tsvfile, delimiter = '\\t', fieldnames = TSV_FIELDNAMES)\n",
    "    all_scan = list(all_dict.keys())\n",
    "    for i in tqdm(range(len(all_scan))):\n",
    "    # traversal scans\n",
    "        a = all_dict[all_scan[i]]\n",
    "        all_viewpoint = list(a.keys())\n",
    "        for j in range(len(all_viewpoint)):\n",
    "        # traversal viewponits\n",
    "            obj_list = []\n",
    "            valid_index = []\n",
    "            for k in range(12):\n",
    "                # traversal 12 directions\n",
    "                if a[all_viewpoint[j]][k] != []:\n",
    "                    obj = ''\n",
    "                    for m in range(len(a[all_viewpoint[j]][k])):\n",
    "                        # traversal objects\n",
    "                        obj += a[all_viewpoint[j]][k][m]\n",
    "                        obj += ' '\n",
    "                    obj_list.append(obj)\n",
    "                    valid_index.append(k)\n",
    "                else:\n",
    "                    pass\n",
    "            # print(obj_list)\n",
    "            text = clip.tokenize(obj_list, truncate=True).to(device) # [3, 77]\n",
    "            with torch.no_grad():\n",
    "                # avoid nan in softmax when there is no objects\n",
    "                new_text_features = torch.ones((12,640)) * 1e-6\n",
    "                text_features = model.encode_text(text)\n",
    "                # print(text_features.shape)\n",
    "                if valid_index != []:\n",
    "                    for n in range(len(valid_index)):\n",
    "                        new_text_features[valid_index[n]] = text_features[n]\n",
    "                # print(new_text_features.shape)\n",
    "                features = new_text_features.detach().numpy()\n",
    "                # print(features.shape)\n",
    "                writer.writerow({\n",
    "                'scanId': all_scan[i],\n",
    "                'viewpointId': all_viewpoint[j],\n",
    "                'features': str(base64.b64encode(features), \"utf-8\")\n",
    "                })"
   ]
  }
 ],
 "metadata": {
  "kernelspec": {
   "display_name": "air",
   "language": "python",
   "name": "python3"
  },
  "language_info": {
   "codemirror_mode": {
    "name": "ipython",
    "version": 3
   },
   "file_extension": ".py",
   "mimetype": "text/x-python",
   "name": "python",
   "nbconvert_exporter": "python",
   "pygments_lexer": "ipython3",
   "version": "3.8.13"
  }
 },
 "nbformat": 4,
 "nbformat_minor": 2
}
